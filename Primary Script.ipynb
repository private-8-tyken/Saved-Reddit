{
 "cells": [
  {
   "cell_type": "code",
   "execution_count": 2,
   "id": "d37f2361",
   "metadata": {},
   "outputs": [],
   "source": [
    "import re\n",
    "import pandas as pd\n",
    "from pathlib import Path\n",
    "from datetime import datetime\n",
    "\n",
    "from SCRIPTS.redditLinkRetriever import fetch_saved_post_links, save_links_txt\n",
    "from SCRIPTS.mediaDownloader import download_embedded_media\n",
    "from SCRIPTS.mediaOrganizer import organize_downloads"
   ]
  },
  {
   "cell_type": "code",
   "execution_count": 34,
   "id": "c7585e29",
   "metadata": {},
   "outputs": [],
   "source": [
    "DRY_RUN = False # Set to True to avoid making any changes"
   ]
  },
  {
   "cell_type": "code",
   "execution_count": 35,
   "id": "01a3004a",
   "metadata": {},
   "outputs": [],
   "source": [
    "# Retrieve saved post links for the specified user\n",
    "links = fetch_saved_post_links()"
   ]
  },
  {
   "cell_type": "code",
   "execution_count": 36,
   "id": "71e1d614",
   "metadata": {},
   "outputs": [
    {
     "data": {
      "text/plain": [
       "['https://www.reddit.com/r/slutsofsnapchat/comments/1ob41f5/cum_play_with_a_slutty_19yr_old_sexting_sextapes',\n",
       " 'https://www.reddit.com/r/slutsofsnapchat/comments/1ob2xjm/telegram_creamykikii_cumslut_what_i_offer_gfe',\n",
       " 'https://www.reddit.com/r/ABGHeavens/comments/1ob1yuu/best_abg',\n",
       " 'https://www.reddit.com/r/HentaiBullying/comments/1o9n30u/they_use_me_to_make_money_and_their_own',\n",
       " 'https://www.reddit.com/r/collegesluts/comments/1oaqcv4/freshman_with_biggest_tits_in_class']"
      ]
     },
     "execution_count": 36,
     "metadata": {},
     "output_type": "execute_result"
    }
   ],
   "source": [
    "links[:5]"
   ]
  },
  {
   "cell_type": "markdown",
   "id": "4849fc88",
   "metadata": {},
   "source": [
    "# NEW POST VALIDATION\n",
    "\n",
    "This section validates new posts from reddits saved folder"
   ]
  },
  {
   "cell_type": "code",
   "execution_count": 37,
   "id": "453e7486",
   "metadata": {},
   "outputs": [
    {
     "name": "stderr",
     "output_type": "stream",
     "text": [
      "C:\\Users\\minds\\AppData\\Local\\Temp\\ipykernel_11560\\787629229.py:47: DeprecationWarning: datetime.datetime.utcnow() is deprecated and scheduled for removal in a future version. Use timezone-aware objects to represent datetimes in UTC: datetime.datetime.now(datetime.UTC).\n",
      "  \"date_added\": datetime.utcnow().isoformat(timespec=\"seconds\"),\n"
     ]
    },
    {
     "data": {
      "text/html": [
       "<div>\n",
       "<style scoped>\n",
       "    .dataframe tbody tr th:only-of-type {\n",
       "        vertical-align: middle;\n",
       "    }\n",
       "\n",
       "    .dataframe tbody tr th {\n",
       "        vertical-align: top;\n",
       "    }\n",
       "\n",
       "    .dataframe thead th {\n",
       "        text-align: right;\n",
       "    }\n",
       "</style>\n",
       "<table border=\"1\" class=\"dataframe\">\n",
       "  <thead>\n",
       "    <tr style=\"text-align: right;\">\n",
       "      <th></th>\n",
       "      <th>order_num</th>\n",
       "      <th>link</th>\n",
       "      <th>post_id</th>\n",
       "      <th>date_added</th>\n",
       "    </tr>\n",
       "  </thead>\n",
       "  <tbody>\n",
       "    <tr>\n",
       "      <th>0</th>\n",
       "      <td>1286</td>\n",
       "      <td>https://www.reddit.com/r/bangmybully/comments/...</td>\n",
       "      <td>1o8ba01</td>\n",
       "      <td>2025-10-20T00:02:27</td>\n",
       "    </tr>\n",
       "    <tr>\n",
       "      <th>1</th>\n",
       "      <td>1287</td>\n",
       "      <td>https://www.reddit.com/r/ABGHeavens/comments/1...</td>\n",
       "      <td>1o97c82</td>\n",
       "      <td>2025-10-20T00:02:27</td>\n",
       "    </tr>\n",
       "    <tr>\n",
       "      <th>2</th>\n",
       "      <td>1288</td>\n",
       "      <td>https://www.reddit.com/r/bangmybully/comments/...</td>\n",
       "      <td>1o8bta5</td>\n",
       "      <td>2025-10-20T00:02:27</td>\n",
       "    </tr>\n",
       "    <tr>\n",
       "      <th>3</th>\n",
       "      <td>1289</td>\n",
       "      <td>https://www.reddit.com/r/ABGHeavens/comments/1...</td>\n",
       "      <td>1oa6x2t</td>\n",
       "      <td>2025-10-20T00:02:27</td>\n",
       "    </tr>\n",
       "    <tr>\n",
       "      <th>4</th>\n",
       "      <td>1290</td>\n",
       "      <td>https://www.reddit.com/r/cumsluts/comments/1o9...</td>\n",
       "      <td>1o9yw0m</td>\n",
       "      <td>2025-10-20T00:02:27</td>\n",
       "    </tr>\n",
       "    <tr>\n",
       "      <th>5</th>\n",
       "      <td>1291</td>\n",
       "      <td>https://www.reddit.com/r/bangmybully/comments/...</td>\n",
       "      <td>1o9tk5e</td>\n",
       "      <td>2025-10-20T00:02:27</td>\n",
       "    </tr>\n",
       "    <tr>\n",
       "      <th>6</th>\n",
       "      <td>1292</td>\n",
       "      <td>https://www.reddit.com/r/biosuits/comments/1o9...</td>\n",
       "      <td>1o9eszy</td>\n",
       "      <td>2025-10-20T00:02:27</td>\n",
       "    </tr>\n",
       "    <tr>\n",
       "      <th>7</th>\n",
       "      <td>1293</td>\n",
       "      <td>https://www.reddit.com/r/SluttyConfessions/com...</td>\n",
       "      <td>1o9oow5</td>\n",
       "      <td>2025-10-20T00:02:27</td>\n",
       "    </tr>\n",
       "    <tr>\n",
       "      <th>8</th>\n",
       "      <td>1294</td>\n",
       "      <td>https://www.reddit.com/r/slutsofsnapchat/comme...</td>\n",
       "      <td>1o9t13k</td>\n",
       "      <td>2025-10-20T00:02:27</td>\n",
       "    </tr>\n",
       "    <tr>\n",
       "      <th>9</th>\n",
       "      <td>1295</td>\n",
       "      <td>https://www.reddit.com/r/Rapekink/comments/1o9...</td>\n",
       "      <td>1o9fjdk</td>\n",
       "      <td>2025-10-20T00:02:27</td>\n",
       "    </tr>\n",
       "    <tr>\n",
       "      <th>10</th>\n",
       "      <td>1296</td>\n",
       "      <td>https://www.reddit.com/r/AhegaoGirls/comments/...</td>\n",
       "      <td>1o8r5ic</td>\n",
       "      <td>2025-10-20T00:02:27</td>\n",
       "    </tr>\n",
       "    <tr>\n",
       "      <th>11</th>\n",
       "      <td>1297</td>\n",
       "      <td>https://www.reddit.com/r/ABGHeavens/comments/1...</td>\n",
       "      <td>1oa6s16</td>\n",
       "      <td>2025-10-20T00:02:27</td>\n",
       "    </tr>\n",
       "    <tr>\n",
       "      <th>12</th>\n",
       "      <td>1298</td>\n",
       "      <td>https://www.reddit.com/r/bangmybully/comments/...</td>\n",
       "      <td>1o85il3</td>\n",
       "      <td>2025-10-20T00:02:27</td>\n",
       "    </tr>\n",
       "    <tr>\n",
       "      <th>13</th>\n",
       "      <td>1299</td>\n",
       "      <td>https://www.reddit.com/r/cumsluts/comments/1oa...</td>\n",
       "      <td>1oa631j</td>\n",
       "      <td>2025-10-20T00:02:27</td>\n",
       "    </tr>\n",
       "    <tr>\n",
       "      <th>14</th>\n",
       "      <td>1300</td>\n",
       "      <td>https://www.reddit.com/r/ABGHeavens/comments/1...</td>\n",
       "      <td>1oaee68</td>\n",
       "      <td>2025-10-20T00:02:27</td>\n",
       "    </tr>\n",
       "    <tr>\n",
       "      <th>15</th>\n",
       "      <td>1301</td>\n",
       "      <td>https://www.reddit.com/r/cumsluts/comments/1oa...</td>\n",
       "      <td>1oa6chl</td>\n",
       "      <td>2025-10-20T00:02:27</td>\n",
       "    </tr>\n",
       "    <tr>\n",
       "      <th>16</th>\n",
       "      <td>1302</td>\n",
       "      <td>https://www.reddit.com/r/bangmybully/comments/...</td>\n",
       "      <td>1oabnlx</td>\n",
       "      <td>2025-10-20T00:02:27</td>\n",
       "    </tr>\n",
       "    <tr>\n",
       "      <th>17</th>\n",
       "      <td>1303</td>\n",
       "      <td>https://www.reddit.com/r/rape_hentai/comments/...</td>\n",
       "      <td>1oa90lu</td>\n",
       "      <td>2025-10-20T00:02:27</td>\n",
       "    </tr>\n",
       "    <tr>\n",
       "      <th>18</th>\n",
       "      <td>1304</td>\n",
       "      <td>https://www.reddit.com/r/ABGHeavens/comments/1...</td>\n",
       "      <td>1oawsjr</td>\n",
       "      <td>2025-10-20T00:02:27</td>\n",
       "    </tr>\n",
       "    <tr>\n",
       "      <th>19</th>\n",
       "      <td>1305</td>\n",
       "      <td>https://www.reddit.com/r/SluttyConfessions/com...</td>\n",
       "      <td>1oao2hs</td>\n",
       "      <td>2025-10-20T00:02:27</td>\n",
       "    </tr>\n",
       "    <tr>\n",
       "      <th>20</th>\n",
       "      <td>1306</td>\n",
       "      <td>https://www.reddit.com/r/cumsluts/comments/1oa...</td>\n",
       "      <td>1oaw7d3</td>\n",
       "      <td>2025-10-20T00:02:27</td>\n",
       "    </tr>\n",
       "    <tr>\n",
       "      <th>21</th>\n",
       "      <td>1307</td>\n",
       "      <td>https://www.reddit.com/r/collegesluts/comments...</td>\n",
       "      <td>1oaqcv4</td>\n",
       "      <td>2025-10-20T00:02:27</td>\n",
       "    </tr>\n",
       "    <tr>\n",
       "      <th>22</th>\n",
       "      <td>1308</td>\n",
       "      <td>https://www.reddit.com/r/HentaiBullying/commen...</td>\n",
       "      <td>1o9n30u</td>\n",
       "      <td>2025-10-20T00:02:27</td>\n",
       "    </tr>\n",
       "    <tr>\n",
       "      <th>23</th>\n",
       "      <td>1309</td>\n",
       "      <td>https://www.reddit.com/r/ABGHeavens/comments/1...</td>\n",
       "      <td>1ob1yuu</td>\n",
       "      <td>2025-10-20T00:02:27</td>\n",
       "    </tr>\n",
       "    <tr>\n",
       "      <th>24</th>\n",
       "      <td>1310</td>\n",
       "      <td>https://www.reddit.com/r/slutsofsnapchat/comme...</td>\n",
       "      <td>1ob2xjm</td>\n",
       "      <td>2025-10-20T00:02:27</td>\n",
       "    </tr>\n",
       "    <tr>\n",
       "      <th>25</th>\n",
       "      <td>1311</td>\n",
       "      <td>https://www.reddit.com/r/slutsofsnapchat/comme...</td>\n",
       "      <td>1ob41f5</td>\n",
       "      <td>2025-10-20T00:02:27</td>\n",
       "    </tr>\n",
       "  </tbody>\n",
       "</table>\n",
       "</div>"
      ],
      "text/plain": [
       "    order_num                                               link  post_id  \\\n",
       "0        1286  https://www.reddit.com/r/bangmybully/comments/...  1o8ba01   \n",
       "1        1287  https://www.reddit.com/r/ABGHeavens/comments/1...  1o97c82   \n",
       "2        1288  https://www.reddit.com/r/bangmybully/comments/...  1o8bta5   \n",
       "3        1289  https://www.reddit.com/r/ABGHeavens/comments/1...  1oa6x2t   \n",
       "4        1290  https://www.reddit.com/r/cumsluts/comments/1o9...  1o9yw0m   \n",
       "5        1291  https://www.reddit.com/r/bangmybully/comments/...  1o9tk5e   \n",
       "6        1292  https://www.reddit.com/r/biosuits/comments/1o9...  1o9eszy   \n",
       "7        1293  https://www.reddit.com/r/SluttyConfessions/com...  1o9oow5   \n",
       "8        1294  https://www.reddit.com/r/slutsofsnapchat/comme...  1o9t13k   \n",
       "9        1295  https://www.reddit.com/r/Rapekink/comments/1o9...  1o9fjdk   \n",
       "10       1296  https://www.reddit.com/r/AhegaoGirls/comments/...  1o8r5ic   \n",
       "11       1297  https://www.reddit.com/r/ABGHeavens/comments/1...  1oa6s16   \n",
       "12       1298  https://www.reddit.com/r/bangmybully/comments/...  1o85il3   \n",
       "13       1299  https://www.reddit.com/r/cumsluts/comments/1oa...  1oa631j   \n",
       "14       1300  https://www.reddit.com/r/ABGHeavens/comments/1...  1oaee68   \n",
       "15       1301  https://www.reddit.com/r/cumsluts/comments/1oa...  1oa6chl   \n",
       "16       1302  https://www.reddit.com/r/bangmybully/comments/...  1oabnlx   \n",
       "17       1303  https://www.reddit.com/r/rape_hentai/comments/...  1oa90lu   \n",
       "18       1304  https://www.reddit.com/r/ABGHeavens/comments/1...  1oawsjr   \n",
       "19       1305  https://www.reddit.com/r/SluttyConfessions/com...  1oao2hs   \n",
       "20       1306  https://www.reddit.com/r/cumsluts/comments/1oa...  1oaw7d3   \n",
       "21       1307  https://www.reddit.com/r/collegesluts/comments...  1oaqcv4   \n",
       "22       1308  https://www.reddit.com/r/HentaiBullying/commen...  1o9n30u   \n",
       "23       1309  https://www.reddit.com/r/ABGHeavens/comments/1...  1ob1yuu   \n",
       "24       1310  https://www.reddit.com/r/slutsofsnapchat/comme...  1ob2xjm   \n",
       "25       1311  https://www.reddit.com/r/slutsofsnapchat/comme...  1ob41f5   \n",
       "\n",
       "             date_added  \n",
       "0   2025-10-20T00:02:27  \n",
       "1   2025-10-20T00:02:27  \n",
       "2   2025-10-20T00:02:27  \n",
       "3   2025-10-20T00:02:27  \n",
       "4   2025-10-20T00:02:27  \n",
       "5   2025-10-20T00:02:27  \n",
       "6   2025-10-20T00:02:27  \n",
       "7   2025-10-20T00:02:27  \n",
       "8   2025-10-20T00:02:27  \n",
       "9   2025-10-20T00:02:27  \n",
       "10  2025-10-20T00:02:27  \n",
       "11  2025-10-20T00:02:27  \n",
       "12  2025-10-20T00:02:27  \n",
       "13  2025-10-20T00:02:27  \n",
       "14  2025-10-20T00:02:27  \n",
       "15  2025-10-20T00:02:27  \n",
       "16  2025-10-20T00:02:27  \n",
       "17  2025-10-20T00:02:27  \n",
       "18  2025-10-20T00:02:27  \n",
       "19  2025-10-20T00:02:27  \n",
       "20  2025-10-20T00:02:27  \n",
       "21  2025-10-20T00:02:27  \n",
       "22  2025-10-20T00:02:27  \n",
       "23  2025-10-20T00:02:27  \n",
       "24  2025-10-20T00:02:27  \n",
       "25  2025-10-20T00:02:27  "
      ]
     },
     "execution_count": 37,
     "metadata": {},
     "output_type": "execute_result"
    }
   ],
   "source": [
    "csv_path = Path(\"ordered_posts.csv\")\n",
    "raw_df = pd.read_csv(csv_path)\n",
    "\n",
    "POST_ID_RE = re.compile(r\"/comments/([a-z0-9]+)(?:[/?#]|$)\", re.IGNORECASE)\n",
    "SHORT_RE   = re.compile(r\"redd\\.it/([a-z0-9]+)(?:[/?#]|$)\", re.IGNORECASE)\n",
    "max_order_num = raw_df.order_num.max()\n",
    "\n",
    "def strip_trailing_slash(url: str) -> str:\n",
    "    # remove trailing slashes only at the very end (doesn't touch scheme)\n",
    "    return url.rstrip(\"/\")\n",
    "\n",
    "def extract_post_id(url: str) -> str | None:\n",
    "    \"\"\"\n",
    "    Try to extract a post id from:\n",
    "      - standard permalink: .../comments/<postid>/...\n",
    "      - shortlink: https://redd.it/<postid>\n",
    "    \"\"\"\n",
    "    m = POST_ID_RE.search(url)\n",
    "    if m:\n",
    "        return m.group(1)\n",
    "    m = SHORT_RE.search(url)\n",
    "    if m:\n",
    "        return m.group(1)\n",
    "    return None\n",
    "\n",
    "existing_ids = set(str(x).lower() for x in raw_df.get(\"post_id\", pd.Series([])).dropna())\n",
    "\n",
    "new_rows = []\n",
    "next_order = max_order_num + 1\n",
    "seen_in_batch = set()  # avoid duplicates within this run\n",
    "\n",
    "for raw_link in reversed(links):\n",
    "    link = strip_trailing_slash(raw_link)\n",
    "    post_id = extract_post_id(link)\n",
    "    if not post_id:\n",
    "        continue\n",
    "    pid = post_id.lower()\n",
    "\n",
    "    # Only add if NOT already in CSV and not already queued this batch\n",
    "    if pid in existing_ids or pid in seen_in_batch:\n",
    "        continue\n",
    "\n",
    "    new_rows.append({\n",
    "        \"order_num\": next_order,\n",
    "        \"link\": link,\n",
    "        \"post_id\": post_id,\n",
    "        \"date_added\": datetime.utcnow().isoformat(timespec=\"seconds\"),\n",
    "    })\n",
    "    seen_in_batch.add(pid)\n",
    "    next_order += 1\n",
    "\n",
    "# Preview as a DataFrame\n",
    "new_df = pd.DataFrame(new_rows)\n",
    "new_df\n"
   ]
  },
  {
   "cell_type": "code",
   "execution_count": 38,
   "id": "ab89ca61",
   "metadata": {},
   "outputs": [
    {
     "data": {
      "application/vnd.jupyter.widget-view+json": {
       "model_id": "5a972deda9e5453bae0e2f9e3a8e56f6",
       "version_major": 2,
       "version_minor": 0
      },
      "text/plain": [
       "  0%|          | 0/26 [00:00<?, ?post/s]"
      ]
     },
     "metadata": {},
     "output_type": "display_data"
    },
    {
     "name": "stdout",
     "output_type": "stream",
     "text": [
      "Done. Success: 0, Skipped: 26, Failed: 0\n"
     ]
    },
    {
     "data": {
      "text/plain": [
       "{'success': 0, 'skipped': 26, 'failed': 0}"
      ]
     },
     "execution_count": 38,
     "metadata": {},
     "output_type": "execute_result"
    }
   ],
   "source": [
    "import SCRIPTS.jsonDownloader as jd\n",
    "import importlib\n",
    "importlib.reload(jd)\n",
    "\n",
    "jd.configure(\n",
    "    DATA_ROOT=\"Out\",\n",
    "    SKIP_EXISTING=False,\n",
    "    REPORTS_DIR=\"Out/__reports\"\n",
    "    )\n",
    "\n",
    "summary = jd.process_all(new_df[\"link\"].tolist(), show_progress=True)\n",
    "summary"
   ]
  },
  {
   "cell_type": "markdown",
   "id": "82e02cf7",
   "metadata": {},
   "source": [
    "# MEDIA DOWNLOADER\n",
    "Reviews the external and media json folders in **Out/**, downloading:\n",
    "- Images\n",
    "- Gifs\n",
    "- Videos"
   ]
  },
  {
   "cell_type": "code",
   "execution_count": 3,
   "id": "2fe27615",
   "metadata": {},
   "outputs": [
    {
     "data": {
      "application/vnd.jupyter.widget-view+json": {
       "model_id": "0083440f0a4e48a8994023ab39c76433",
       "version_major": 2,
       "version_minor": 0
      },
      "text/plain": [
       "Downloading embedded media:   0%|          | 0/14 [00:00<?, ?post/s]"
      ]
     },
     "metadata": {},
     "output_type": "display_data"
    },
    {
     "data": {
      "application/vnd.jupyter.widget-view+json": {
       "model_id": "8684af104bab4cfe955968fa5dbff593",
       "version_major": 2,
       "version_minor": 0
      },
      "text/plain": [
       "Downloading embedded media:   0%|          | 0/9 [00:00<?, ?post/s]"
      ]
     },
     "metadata": {},
     "output_type": "display_data"
    },
    {
     "data": {
      "text/plain": [
       "[{'downloaded': 0,\n",
       "  'failed': 14,\n",
       "  'skipped': 0,\n",
       "  'fail_rows': [{'id': '1o85il3', 'reason': 'no_reddit_media_url'},\n",
       "   {'id': '1o8ba01', 'reason': 'no_reddit_media_url'},\n",
       "   {'id': '1o8bta5', 'reason': 'no_reddit_media_url'},\n",
       "   {'id': '1o8r5ic', 'reason': 'no_reddit_media_url'},\n",
       "   {'id': '1o9t13k', 'reason': 'no_reddit_media_url'},\n",
       "   {'id': '1o9tk5e', 'reason': 'no_reddit_media_url'},\n",
       "   {'id': '1o9yw0m', 'reason': 'no_reddit_media_url'},\n",
       "   {'id': '1oa631j', 'reason': 'no_reddit_media_url'},\n",
       "   {'id': '1oa6chl', 'reason': 'no_reddit_media_url'},\n",
       "   {'id': '1oa90lu', 'reason': 'no_reddit_media_url'},\n",
       "   {'id': '1oabnlx', 'reason': 'no_reddit_media_url'},\n",
       "   {'id': '1oaqcv4', 'reason': 'no_reddit_media_url'},\n",
       "   {'id': '1oaw7d3', 'reason': 'no_reddit_media_url'},\n",
       "   {'id': '1ob2xjm', 'reason': 'no_reddit_media_url'}],\n",
       "  'out_dir': WindowsPath('Media/media_files'),\n",
       "  'json_dir': WindowsPath('Out/external')},\n",
       " {'downloaded': 57,\n",
       "  'failed': 0,\n",
       "  'skipped': 0,\n",
       "  'fail_rows': [],\n",
       "  'out_dir': WindowsPath('Media/media_files'),\n",
       "  'json_dir': WindowsPath('Out/media')}]"
      ]
     },
     "execution_count": 3,
     "metadata": {},
     "output_type": "execute_result"
    }
   ],
   "source": [
    "folders = [\"external\", \"media\"]\n",
    "download_stats = []\n",
    "\n",
    "# point to your inputs/outputs explicitly\n",
    "for mediaType in folders:\n",
    "    download_stats.append(download_embedded_media(\n",
    "        media_json_dir=Path(\"Out/\" + mediaType),   # where your *.json live\n",
    "        media_out_dir=Path(\"Media/media_files\"),  # where downloads should go\n",
    "        write_fail_csv_to=Path(\"Media/__reports/media_report\" + datetime.now().strftime(\"%Y%m%d-%H%M%S\") + \".csv\"),\n",
    "        show_progress=True,\n",
    "    ))\n",
    "\n",
    "download_stats"
   ]
  },
  {
   "cell_type": "code",
   "execution_count": 4,
   "id": "d86708a6",
   "metadata": {},
   "outputs": [
    {
     "data": {
      "application/vnd.jupyter.widget-view+json": {
       "model_id": "a9c75ed63eff425ebb340b54eee80321",
       "version_major": 2,
       "version_minor": 0
      },
      "text/plain": [
       "Organizing media:   0%|          | 0/57 [00:00<?, ?file/s]"
      ]
     },
     "metadata": {},
     "output_type": "display_data"
    },
    {
     "data": {
      "text/plain": [
       "{'moved': 57,\n",
       " 'copied': 0,\n",
       " 'linked': 0,\n",
       " 'skipped': 0,\n",
       " 'unknown': 0,\n",
       " 'dry_run': False,\n",
       " 'strategy': 'move',\n",
       " 'conflict': 'rename',\n",
       " 'input_dir': 'S:\\\\minds\\\\Desktop\\\\Downloader and Reddit System\\\\Saved-Reddit\\\\Media\\\\media_files',\n",
       " 'output_dir': 'S:\\\\minds\\\\Desktop\\\\Downloader and Reddit System\\\\Saved-Reddit\\\\Media',\n",
       " 'errors': [],\n",
       " 'created_dirs': {'S:\\\\minds\\\\Desktop\\\\Downloader and Reddit System\\\\Saved-Reddit\\\\Media\\\\Gifs\\\\1ob41f5',\n",
       "  'S:\\\\minds\\\\Desktop\\\\Downloader and Reddit System\\\\Saved-Reddit\\\\Media\\\\Images',\n",
       "  'S:\\\\minds\\\\Desktop\\\\Downloader and Reddit System\\\\Saved-Reddit\\\\Media\\\\Images\\\\1o97c82',\n",
       "  'S:\\\\minds\\\\Desktop\\\\Downloader and Reddit System\\\\Saved-Reddit\\\\Media\\\\Images\\\\1o9n30u',\n",
       "  'S:\\\\minds\\\\Desktop\\\\Downloader and Reddit System\\\\Saved-Reddit\\\\Media\\\\Images\\\\1oa6s16',\n",
       "  'S:\\\\minds\\\\Desktop\\\\Downloader and Reddit System\\\\Saved-Reddit\\\\Media\\\\Images\\\\1oa6x2t',\n",
       "  'S:\\\\minds\\\\Desktop\\\\Downloader and Reddit System\\\\Saved-Reddit\\\\Media\\\\Images\\\\1oaee68',\n",
       "  'S:\\\\minds\\\\Desktop\\\\Downloader and Reddit System\\\\Saved-Reddit\\\\Media\\\\Images\\\\1oawsjr',\n",
       "  'S:\\\\minds\\\\Desktop\\\\Downloader and Reddit System\\\\Saved-Reddit\\\\Media\\\\Images\\\\1ob1yuu',\n",
       "  'S:\\\\minds\\\\Desktop\\\\Downloader and Reddit System\\\\Saved-Reddit\\\\Media\\\\Images\\\\1ob41f5'},\n",
       " 'pruned_dirs': ['S:\\\\minds\\\\Desktop\\\\Downloader and Reddit System\\\\Saved-Reddit\\\\Media\\\\media_files\\\\1o97c82',\n",
       "  'S:\\\\minds\\\\Desktop\\\\Downloader and Reddit System\\\\Saved-Reddit\\\\Media\\\\media_files\\\\1o9n30u',\n",
       "  'S:\\\\minds\\\\Desktop\\\\Downloader and Reddit System\\\\Saved-Reddit\\\\Media\\\\media_files\\\\1oa6s16',\n",
       "  'S:\\\\minds\\\\Desktop\\\\Downloader and Reddit System\\\\Saved-Reddit\\\\Media\\\\media_files\\\\1oa6x2t',\n",
       "  'S:\\\\minds\\\\Desktop\\\\Downloader and Reddit System\\\\Saved-Reddit\\\\Media\\\\media_files\\\\1oaee68',\n",
       "  'S:\\\\minds\\\\Desktop\\\\Downloader and Reddit System\\\\Saved-Reddit\\\\Media\\\\media_files\\\\1oawsjr',\n",
       "  'S:\\\\minds\\\\Desktop\\\\Downloader and Reddit System\\\\Saved-Reddit\\\\Media\\\\media_files\\\\1ob1yuu',\n",
       "  'S:\\\\minds\\\\Desktop\\\\Downloader and Reddit System\\\\Saved-Reddit\\\\Media\\\\media_files\\\\1ob41f5']}"
      ]
     },
     "execution_count": 4,
     "metadata": {},
     "output_type": "execute_result"
    }
   ],
   "source": [
    "move_stats = organize_downloads(\n",
    "    input_dir=\"Media/media_files\",  # where your downloader wrote files\n",
    "    output_dir=\"Media\",             # where Images/, Videos/, Gifs/ live\n",
    "    strategy=\"move\",\n",
    "    conflict=\"rename\",\n",
    "    show_progress=True,\n",
    "    dry_run=False,                  # set True to preview\n",
    "    prune_empty_galleries=True,     # remove empty src folders after moving\n",
    ")\n",
    "\n",
    "move_stats"
   ]
  },
  {
   "cell_type": "markdown",
   "id": "22ad8f71",
   "metadata": {},
   "source": [
    "# REDGIF DOWNLOADER\n",
    "\n",
    "Downloads redgifs from external json folder in **Out/**"
   ]
  },
  {
   "cell_type": "code",
   "execution_count": null,
   "id": "9efaa226",
   "metadata": {},
   "outputs": [],
   "source": []
  }
 ],
 "metadata": {
  "kernelspec": {
   "display_name": "Primary",
   "language": "python",
   "name": "python3"
  },
  "language_info": {
   "codemirror_mode": {
    "name": "ipython",
    "version": 3
   },
   "file_extension": ".py",
   "mimetype": "text/x-python",
   "name": "python",
   "nbconvert_exporter": "python",
   "pygments_lexer": "ipython3",
   "version": "3.12.9"
  }
 },
 "nbformat": 4,
 "nbformat_minor": 5
}
