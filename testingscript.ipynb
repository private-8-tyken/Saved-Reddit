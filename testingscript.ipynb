{
 "cells": [
  {
   "cell_type": "code",
   "execution_count": 2,
   "id": "d339fa47",
   "metadata": {},
   "outputs": [],
   "source": [
    "R2_ACCESS_KEY_ID='2371b7cf8f041de72e7222de283a83e5'\n",
    "R2_SECRET_ACCESS_KEY='f2b23a39e4442a25758091248c8eeb6570c3bd33baf15104b045a2bd60bb0c17'\n",
    "R2_BUCKET='media-archive'\n",
    "R2_ENDPOINT='https://e42006076fb25fd6e73a881a7bbdebd5.r2.cloudflarestorage.com'"
   ]
  },
  {
   "cell_type": "code",
   "execution_count": 3,
   "id": "4bca4c8f",
   "metadata": {},
   "outputs": [
    {
     "name": "stdout",
     "output_type": "stream",
     "text": [
      "Images/1bdwsou.png → image/png\n",
      "Images/1mio6zr/01.jpg → image/jpeg\n",
      "Gifs/1lmf8kk.gif → image/gif\n",
      "RedGiphys/1cfi6e1.mp4 → video/mp4\n",
      "Videos/1g4e5kj.mp4 → video/mp4\n"
     ]
    }
   ],
   "source": [
    "import boto3, os\n",
    "\n",
    "ENDPOINT   = R2_ENDPOINT\n",
    "REGION     = \"auto\"\n",
    "ACCESS_KEY = R2_ACCESS_KEY_ID\n",
    "SECRET_KEY = R2_SECRET_ACCESS_KEY\n",
    "BUCKET     = R2_BUCKET\n",
    "\n",
    "s3 = boto3.client(\"s3\",\n",
    "    endpoint_url=ENDPOINT,\n",
    "    aws_access_key_id=ACCESS_KEY,\n",
    "    aws_secret_access_key=SECRET_KEY,\n",
    "    region_name=REGION,\n",
    ")\n",
    "\n",
    "keys_to_check = [\n",
    "    \"Images/1bdwsou.png\",\n",
    "    \"Images/1mio6zr/01.jpg\",\n",
    "    \"Gifs/1lmf8kk.gif\",\n",
    "    \"RedGiphys/1cfi6e1.mp4\",\n",
    "    \"Videos/1g4e5kj.mp4\",\n",
    "]\n",
    "\n",
    "for k in keys_to_check:\n",
    "    h = s3.head_object(Bucket=BUCKET, Key=k)\n",
    "    print(k, \"→\", h[\"ContentType\"])\n"
   ]
  },
  {
   "cell_type": "markdown",
   "id": "1f26e405",
   "metadata": {},
   "source": [
    "HEAD request (PowerShell, real curl):\n",
    "- curl.exe -I \"https://pub-20c9f95008cb44f0aa4c53f7209e7865.r2.dev/Images/1bdwsou.png\"\n",
    "- curl.exe -I \"https://pub-20c9f95008cb44f0aa4c53f7209e7865.r2.dev/RedGiphys/1cfi6e1.mp4\""
   ]
  },
  {
   "cell_type": "code",
   "execution_count": 5,
   "id": "82ad541a",
   "metadata": {},
   "outputs": [
    {
     "name": "stdout",
     "output_type": "stream",
     "text": [
      "public, max-age=31536000, immutable\n",
      "public, max-age=31536000, immutable\n"
     ]
    }
   ],
   "source": [
    "print(s3.head_object(Bucket=BUCKET, Key=\"Images/1bdwsou.png\")[\"CacheControl\"])\n",
    "print(s3.head_object(Bucket=BUCKET, Key=\"RedGiphys/1cfi6e1.mp4\")[\"CacheControl\"])"
   ]
  },
  {
   "cell_type": "markdown",
   "id": "eec3b2ef",
   "metadata": {},
   "source": [
    "curl.exe -I \"https://best-media-boy.mindscast-ethan-r2cloudflare.workers.dev/Images/1bdwsou.png\"\n",
    "curl.exe -I \"https://best-media-boy.mindscast-ethan-r2cloudflare.workers.dev/RedGiphys/1cfi6e1.mp4\"\n"
   ]
  }
 ],
 "metadata": {
  "kernelspec": {
   "display_name": "Python 3",
   "language": "python",
   "name": "python3"
  },
  "language_info": {
   "codemirror_mode": {
    "name": "ipython",
    "version": 3
   },
   "file_extension": ".py",
   "mimetype": "text/x-python",
   "name": "python",
   "nbconvert_exporter": "python",
   "pygments_lexer": "ipython3",
   "version": "3.11.5"
  }
 },
 "nbformat": 4,
 "nbformat_minor": 5
}
